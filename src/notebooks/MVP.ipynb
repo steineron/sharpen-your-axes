{
 "cells": [
  {
   "cell_type": "markdown",
   "source": [
    "The Model layer is a collection of instances that expose:\n",
    "1. Properties (r/w, ro)\n",
    "2. Observables\n",
    "3. Transactions (methods)"
   ],
   "metadata": {
    "collapsed": false
   }
  },
  {
   "cell_type": "code",
   "execution_count": null,
   "outputs": [],
   "source": [],
   "metadata": {
    "collapsed": false
   }
  }
 ],
 "metadata": {
  "kernelspec": {
   "display_name": "Kotlin",
   "language": "kotlin",
   "name": "kotlin"
  },
  "language_info": {
   "name": "kotlin",
   "version": "1.8.20",
   "mimetype": "text/x-kotlin",
   "file_extension": ".kt",
   "pygments_lexer": "kotlin",
   "codemirror_mode": "text/x-kotlin",
   "nbconvert_exporter": ""
  },
  "ktnbPluginMetadata": {
   "projectDependencies": true,
   "projectLibraries": []
  }
 },
 "nbformat": 4,
 "nbformat_minor": 0
}
