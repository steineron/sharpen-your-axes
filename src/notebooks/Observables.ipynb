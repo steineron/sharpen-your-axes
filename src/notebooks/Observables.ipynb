{
 "cells": [
  {
   "cell_type": "markdown",
   "source": [
    "# Observables and Observers\n",
    "In the observer pattern, an object, named **The Subject**, maintains a set of its dependents, called **Observers**, and notifies them automatically of any state changes, usually by calling one of their methods."
   ],
   "metadata": {
    "collapsed": false
   }
  },
  {
   "cell_type": "markdown",
   "source": [
    "### Observer\n",
    "The `Observer` interface (type) has one method - `update(..)`"
   ],
   "metadata": {
    "collapsed": false
   }
  },
  {
   "cell_type": "code",
   "execution_count": 18,
   "outputs": [],
   "source": [
    "interface Observer<T> {\n",
    "    fun update(value: T)\n",
    "}"
   ],
   "metadata": {
    "collapsed": false,
    "ExecuteTime": {
     "end_time": "2023-08-08T23:50:07.134758Z",
     "start_time": "2023-08-08T23:50:06.901880Z"
    }
   }
  },
  {
   "cell_type": "markdown",
   "source": [
    "---\n",
    "### Observable\n",
    "The `Observable` class is _responsible_ for registration of `Observer` instances.\n",
    "It is `abstract` to restrict instantiation of it.\n",
    "Its `register` and `unregister` methods are final (closed), but `onRegister` and `onUnregister` are protected and open (Open/Close Principle). This is saying \"you can't change _how_ it registers observers; you can customise behaviour on registration changes\".\n",
    "\n",
    "\n",
    "Note: It is better to reference/collect the observers as weak references if the language supports it (e.g. Kotlin/Java's `WeakReference`).\n"
   ],
   "metadata": {
    "collapsed": false
   }
  },
  {
   "cell_type": "code",
   "execution_count": 19,
   "outputs": [],
   "source": [
    "abstract class Observable<T> {\n",
    "\n",
    "    protected val observers = mutableSetOf<Observer<T>>()\n",
    "\n",
    "    fun register(observer: Observer<T>) {\n",
    "        observers.add(observer)\n",
    "        onRegister(observer)\n",
    "    }\n",
    "\n",
    "    fun unregister(observer: Observer<T>) {\n",
    "        onUnregister(observer)\n",
    "        observers.remove(observer)\n",
    "    }\n",
    "\n",
    "    open protected fun onRegister(observer: Observer<T>) = Unit\n",
    "    open protected fun onUnregister(observer: Observer<T>) = Unit\n",
    "}"
   ],
   "metadata": {
    "collapsed": false,
    "ExecuteTime": {
     "end_time": "2023-08-08T23:50:07.187988Z",
     "start_time": "2023-08-08T23:50:06.934742Z"
    }
   }
  },
  {
   "cell_type": "markdown",
   "source": [
    "---\n",
    "### Subjects\n",
    "The ```Subject``` class _\"is an\"_ ```Observable```. Its _responsibility_ is to enable its owners/holders to publish values at will (SRP's \"new functionality\").\n",
    "The class is open, but its method ```publish(value)``` is closed (Open/Close Principle) - not meant to be modified"
   ],
   "metadata": {
    "collapsed": false
   }
  },
  {
   "cell_type": "code",
   "execution_count": 20,
   "outputs": [],
   "source": [
    "open class Subject<T> : Observable<T>() {\n",
    "\n",
    "    public fun publish(value: T) {\n",
    "        observers.onEach {\n",
    "            it.update(value)\n",
    "        }\n",
    "    }\n",
    "}"
   ],
   "metadata": {
    "collapsed": false,
    "ExecuteTime": {
     "end_time": "2023-08-08T23:50:07.202836Z",
     "start_time": "2023-08-08T23:50:07.002056Z"
    }
   }
  },
  {
   "cell_type": "markdown",
   "source": [
    "`BehaviorSubject` adds more functionality - the ability to emit the current value upon registration (useful when the subject is a state, e.g. `isLoggedIn`)"
   ],
   "metadata": {
    "collapsed": false
   }
  },
  {
   "cell_type": "code",
   "execution_count": 21,
   "outputs": [],
   "source": [
    "class BehaviorSubject<T>(\n",
    "    initialValue: T\n",
    ") : Subject<T>() {\n",
    "\n",
    "    public var current: T = initialValue\n",
    "        get() {\n",
    "            return field\n",
    "        }\n",
    "        set(value) {\n",
    "            if (field != value) {\n",
    "                field = value\n",
    "                publish(value)\n",
    "            }\n",
    "            (value)\n",
    "        }\n",
    "\n",
    "    override protected fun onRegister(observer: Observer<T>) {\n",
    "        observer.update(current)\n",
    "    }\n",
    "}"
   ],
   "metadata": {
    "collapsed": false,
    "ExecuteTime": {
     "end_time": "2023-08-08T23:50:07.219034Z",
     "start_time": "2023-08-08T23:50:07.051976Z"
    }
   }
  },
  {
   "cell_type": "markdown",
   "source": [
    "---\n",
    "# MVP - The Model\n",
    "\n",
    "A simple, abstract implementation of _a_ Model with a responsibility to implement the properties and observables of \"loading\".\n",
    "Notice that there's no way to interact with it other than read/ observe."
   ],
   "metadata": {
    "collapsed": false
   }
  },
  {
   "cell_type": "code",
   "execution_count": 22,
   "outputs": [],
   "source": [
    "abstract class Model {\n",
    "\n",
    "    interface Properties {\n",
    "        val isLoading: Boolean\n",
    "    }\n",
    "\n",
    "    interface Observables {\n",
    "        val isLoading: Observable<Boolean>\n",
    "    }\n",
    "\n",
    "    protected val loading = BehaviorSubject<Boolean>(false)\n",
    "\n",
    "    open val properties: Properties = object : Properties {\n",
    "        override val isLoading: Boolean\n",
    "            get() = loading.current\n",
    "    }\n",
    "\n",
    "    open val observables: Observables = object : Observables {\n",
    "        override val isLoading: Observable<Boolean>\n",
    "            get() = loading\n",
    "    }\n",
    "}"
   ],
   "metadata": {
    "collapsed": false,
    "ExecuteTime": {
     "end_time": "2023-08-08T23:50:07.248181Z",
     "start_time": "2023-08-08T23:50:07.114688Z"
    }
   }
  },
  {
   "cell_type": "markdown",
   "source": [
    "## ConsumerAccountModel\n",
    "\n",
    "A subclass of Model responsible for login state (a boolean and a matching valid consumer profile)"
   ],
   "metadata": {
    "collapsed": false
   }
  },
  {
   "cell_type": "code",
   "execution_count": 36,
   "outputs": [],
   "source": [
    "data class ConsumerProfile(\n",
    "    val firstName: String,\n",
    "    val lastName: String,\n",
    "    val avatarUrl: String,\n",
    "    val email: String,\n",
    "    val lastLogin:DateTime,\n",
    "    val uuid: String\n",
    "    // etc...\n",
    ")\n",
    "\n",
    "class ConsumerAccountModel : Model(/* various dependencies like http/grpc client, cookies manager etc */) {\n",
    "\n",
    "    interface Properties : Model.Properties {\n",
    "        val isSignedIn: Boolean\n",
    "        val consumerProfile: ConsumerProfile?\n",
    "    }\n",
    "\n",
    "    interface Observables : Model.Observables {\n",
    "        val isSignedIn: Observable<Boolean>\n",
    "    }\n",
    "\n",
    "    // the sign in observable/subject\n",
    "    private val signedIn = BehaviorSubject<Boolean>(false)\n",
    "\n",
    "    // a variable(!!) for consumer profile\n",
    "    private var consumerProfile: ConsumerProfile? = null\n",
    "\n",
    "    // extended properties and observables\n",
    "    override val properties: ConsumerAccountModel.Properties = object : ConsumerAccountModel.Properties {\n",
    "\n",
    "        override val isSignedIn: Boolean = signedIn.current\n",
    "\n",
    "        override val isLoading: Boolean = super@ConsumerAccountModel.properties.isLoading\n",
    "\n",
    "        override val consumerProfile: ConsumerProfile?\n",
    "            get() = this@ConsumerAccountModel.consumerProfile\n",
    "    }\n",
    "\n",
    "    override val observables: ConsumerAccountModel.Observables = object : ConsumerAccountModel.Observables {\n",
    "\n",
    "        override val isSignedIn: Observable<Boolean> = signedIn\n",
    "\n",
    "        override val isLoading: Observable<Boolean> = super@ConsumerAccountModel.observables.isLoading\n",
    "    }\n",
    "\n",
    "    fun signIn(username: String, password: String) {\n",
    "        consumerProfile = null\n",
    "        signedIn.current = false\n",
    "\n",
    "        loading.current = true\n",
    "        try {\n",
    "            // actually attempt sign in, e.g.\n",
    "            consumerProfile = performUsernamePasswordSignIn(username, password)\n",
    "            // then indicate signed in if succeded\n",
    "            signedIn.current = consumerProfile != null\n",
    "\n",
    "        } catch (e: Exception) {\n",
    "            consumerProfile = null\n",
    "            signedIn.current = false\n",
    "        } finally {\n",
    "            loading.current = false\n",
    "        }\n",
    "    }\n",
    "\n",
    "    private fun performUsernamePasswordSignIn(username: String, password: String): ConsumerProfile? {\n",
    "        var profile: ConsumerProfile? = null\n",
    "        // login and return profile\n",
    "        // profile = ...\n",
    "        return profile\n",
    "    }\n",
    "}"
   ],
   "metadata": {
    "collapsed": false,
    "ExecuteTime": {
     "end_time": "2023-08-08T23:52:55.626493Z",
     "start_time": "2023-08-08T23:52:55.540140Z"
    }
   }
  },
  {
   "cell_type": "markdown",
   "source": [
    "It can start by restoring and validating a stored session (if found), or wait till user interaction triggers an action (transacts)"
   ],
   "metadata": {
    "collapsed": false
   }
  },
  {
   "cell_type": "markdown",
   "source": [
    "### ConsumerOrdersModel\n",
    "A Model responsible for maintaining accurate data of the consumer's orders. It auto-loads/unloads when the consumer signs in/out."
   ],
   "metadata": {
    "collapsed": false
   }
  },
  {
   "cell_type": "code",
   "execution_count": 24,
   "outputs": [],
   "source": [
    "import org.joda.time.DateTime\n",
    "\n",
    "// but first: some handy types:\n",
    "\n",
    "enum class InstalmentStatus {\n",
    "    PAID,\n",
    "    DUE,\n",
    "    OVERDUE\n",
    "}\n",
    "\n",
    "data class Instalment(\n",
    "    val status: InstalmentStatus,\n",
    "    val date: DateTime,\n",
    "    val amount: Float\n",
    "    // etc.\n",
    ")\n",
    "\n",
    "data class Order(\n",
    "    val id: Long,\n",
    "    val merchantId: Long,\n",
    "    val datePlaced: DateTime,\n",
    "    val amouht: Float,\n",
    "    val instalments: Set<Instalment>\n",
    "    // etc.\n",
    ")"
   ],
   "metadata": {
    "collapsed": false,
    "ExecuteTime": {
     "end_time": "2023-08-08T23:50:07.395701Z",
     "start_time": "2023-08-08T23:50:07.330808Z"
    }
   }
  },
  {
   "cell_type": "markdown",
   "source": [
    "And then the `ConsumerOrdersModel` can be:"
   ],
   "metadata": {
    "collapsed": false
   }
  },
  {
   "cell_type": "code",
   "execution_count": 25,
   "outputs": [],
   "source": [
    "import org.joda.time.DateTime\n",
    "\n",
    "class ConsumerOrdersModel(\n",
    "    private val accountProperties: ConsumerAccountModel.Properties,\n",
    "    private val accountObservables: ConsumerAccountModel.Observables\n",
    ") : Model(/* plus various dependencies like http/grpc clients, etc */) {\n",
    "\n",
    "    interface Properties : Model.Properties {\n",
    "        val activeOrders: List<Order>\n",
    "        val ordersHistory: List<Order>\n",
    "    }\n",
    "\n",
    "    interface Observables : Model.Observables {\n",
    "        val activeOrders: Observable<List<Order>>\n",
    "        val ordersHistory: Observable<List<Order>>\n",
    "    }\n",
    "\n",
    "    private val activeOrders = BehaviorSubject<List<Order>>(listOf())\n",
    "    private val ordersHistory = BehaviorSubject<List<Order>>(listOf())\n",
    "\n",
    "    init {\n",
    "\n",
    "        // if the the consumer is signed in/out - stay up-to-date\n",
    "        accountObservables.isSignedIn.register(object : Observer<Boolean> {\n",
    "            override fun update(value: Boolean) {\n",
    "                if (value) { // i.e signed in\n",
    "                    refreshAsync()\n",
    "                } else { // not signed in - no orders\n",
    "                    activeOrders.current = emptyList()\n",
    "                    ordersHistory.current = emptyList()\n",
    "                }\n",
    "            }\n",
    "        })\n",
    "\n",
    "        // is the consumer model is loading - this model should not expose previous values\n",
    "        accountObservables.isLoading.register(object : Observer<Boolean> {\n",
    "            override fun update(value: Boolean) {\n",
    "                if (value) { // i.e. consumer account model is loading (so not signed in)\n",
    "                    // while loading - can't have any orders exposed to dependants - this would be wrong\n",
    "                    activeOrders.current = emptyList()\n",
    "                    ordersHistory.current = emptyList()\n",
    "                }\n",
    "            }\n",
    "        })\n",
    "    }\n",
    "\n",
    "    // extended properties and observables\n",
    "    override val properties: ConsumerOrdersModel.Properties = object : ConsumerOrdersModel.Properties {\n",
    "        override val activeOrders: List<Order> = this@ConsumerOrdersModel.activeOrders.current\n",
    "        override val ordersHistory: List<Order> = this@ConsumerOrdersModel.ordersHistory.current\n",
    "        override val isLoading: Boolean = super@ConsumerOrdersModel.properties.isLoading\n",
    "    }\n",
    "\n",
    "    override val observables: ConsumerOrdersModel.Observables = object : ConsumerOrdersModel.Observables {\n",
    "        override val isLoading: Observable<Boolean> = super@ConsumerOrdersModel.observables.isLoading\n",
    "        override val activeOrders: Observable<List<Order>> = this@ConsumerOrdersModel.activeOrders\n",
    "        override val ordersHistory: Observable<List<Order>> = this@ConsumerOrdersModel.ordersHistory\n",
    "    }\n",
    "\n",
    "    fun placeOrder(order: Order) {\n",
    "        loading.current = true\n",
    "        try {\n",
    "            performPlaceOrder(order)?.also {\n",
    "                activeOrders.current = activeOrders.current + it\n",
    "                ordersHistory.current = ordersHistory.current + it\n",
    "            }\n",
    "        } catch (e: Exception) {\n",
    "        } finally {\n",
    "            loading.current = false\n",
    "        }\n",
    "    }\n",
    "\n",
    "    private fun performPlaceOrder(order: Order): Order? {\n",
    "        // place the order - something like client.placeOrder(accountProperties.consumerProfile.uuid, order)\n",
    "        return order\n",
    "    }\n",
    "\n",
    "    /**\n",
    "     *  fetch consumer's orders and update the orders history and active orders\n",
    "     */\n",
    "    private fun refreshAsync() {\n",
    "        loading.current = true\n",
    "\n",
    "        val datePlaced = DateTime.now()\n",
    "        val orders: List<Order> =\n",
    "        // should be something like ordersClient.getOrders(accountProperties.consumerProfile.uuid)\n",
    "            // but for now:\n",
    "            listOf(\n",
    "                Order(\n",
    "                    123, 456, datePlaced, 80.0f, setOf(\n",
    "                        Instalment(InstalmentStatus.DUE, datePlaced.plusDays(0), 20.0f),\n",
    "                        Instalment(InstalmentStatus.DUE, datePlaced.plusDays(14), 20.0f),\n",
    "                        Instalment(InstalmentStatus.DUE, datePlaced.plusDays(28), 20.0f),\n",
    "                        Instalment(InstalmentStatus.DUE, datePlaced.plusDays(42), 20.0f)\n",
    "                    )\n",
    "                )\n",
    "            )\n",
    "        // correctly update the orders history and active orders\n",
    "        ordersHistory.current = orders\n",
    "        activeOrders.current = orders.filter {\n",
    "            it.instalments.find { instalment ->\n",
    "                instalment.status != InstalmentStatus.PAID\n",
    "            } != null\n",
    "        }\n",
    "\n",
    "        loading.current = false\n",
    "    }\n",
    "}"
   ],
   "metadata": {
    "collapsed": false,
    "ExecuteTime": {
     "end_time": "2023-08-08T23:50:07.680702Z",
     "start_time": "2023-08-08T23:50:07.393807Z"
    }
   }
  },
  {
   "cell_type": "markdown",
   "source": [
    "So the Model as a layer could have 2 instances"
   ],
   "metadata": {
    "collapsed": false
   }
  },
  {
   "cell_type": "code",
   "execution_count": 26,
   "outputs": [],
   "source": [
    "val accountModel = ConsumerAccountModel(/* various http clients, cookies and local storage manager etc. */)\n",
    "\n",
    "val ordersModel = ConsumerOrdersModel(\n",
    "    accountModel.properties,\n",
    "    accountModel.observables,\n",
    "    /* plus various http clients, local storage manager etc. */\n",
    ")\n"
   ],
   "metadata": {
    "collapsed": false,
    "ExecuteTime": {
     "end_time": "2023-08-08T23:50:07.716104Z",
     "start_time": "2023-08-08T23:50:07.675431Z"
    }
   }
  },
  {
   "cell_type": "markdown",
   "source": [
    "Notice that:\n",
    "1. The dependencies are a-cyclic and directed (DAG)\n",
    "2. `orderModel` **cannot** call sign-in/out; it can observe and respond to changes in, and use the properties of, `accountModel`\n",
    "\n",
    "\n",
    "---\n",
    "### ConsumerInstalmentsScheduleModel\n",
    "Another model in the collection, this one is responsible for an ordered list of all instalments from all orders"
   ],
   "metadata": {
    "collapsed": false
   }
  },
  {
   "cell_type": "code",
   "execution_count": 27,
   "outputs": [],
   "source": [
    "class ConsumerInstalmentsScheduleModel(\n",
    "    private val ordersObservables: ConsumerOrdersModel.Observables,\n",
    "    private val accountProperties: ConsumerAccountModel.Properties,\n",
    ") : Model(/* plus various dependencies like http/grpc clients, etc */) {\n",
    "\n",
    "    interface Properties : Model.Properties {\n",
    "        val instalments: List<Instalment>\n",
    "    }\n",
    "\n",
    "    interface Observables : Model.Observables {\n",
    "        val instalments: Observable<List<Instalment>>\n",
    "    }\n",
    "\n",
    "    private val instalments = BehaviorSubject<List<Instalment>>(listOf())\n",
    "\n",
    "    init {\n",
    "\n",
    "        // every time a new orders history list is emitted - update the list of instalments\n",
    "        ordersObservables.ordersHistory.register(object : Observer<List<Order>> {\n",
    "            override fun update(value: List<Order>) {\n",
    "                instalments.current = value.flatMap { it.instalments }.sortedBy { it.date }\n",
    "            }\n",
    "        })\n",
    "\n",
    "        // is the orders model is loading - this model should not expose previous values\n",
    "        ordersObservables.isLoading.register(object : Observer<Boolean> {\n",
    "            override fun update(value: Boolean) {\n",
    "                if (value) { // i.e. orders model is loading (so not exposing orders)\n",
    "                    // while loading - can't have any instalments exposed to dependants - this would be wrong\n",
    "                    instalments.current = emptyList()\n",
    "                }\n",
    "            }\n",
    "        })\n",
    "    }\n",
    "\n",
    "    fun payInstalment(instalment: Instalment) {\n",
    "        // IDK - pay it I guess if not PAID, use account model for consumer details\n",
    "    }\n",
    "}"
   ],
   "metadata": {
    "collapsed": false,
    "ExecuteTime": {
     "end_time": "2023-08-08T23:50:07.808769Z",
     "start_time": "2023-08-08T23:50:07.714394Z"
    }
   }
  },
  {
   "cell_type": "markdown",
   "source": [
    "And now the Model layer can look like this:"
   ],
   "metadata": {
    "collapsed": false
   }
  },
  {
   "cell_type": "code",
   "execution_count": 28,
   "outputs": [],
   "source": [
    "val accountModel = ConsumerAccountModel(/* various http clients, cookies and local storage manager etc. */)\n",
    "\n",
    "val ordersModel = ConsumerOrdersModel(\n",
    "    accountModel.properties,\n",
    "    accountModel.observables,\n",
    "    /* plus various http clients, local storage manager etc. */\n",
    ")\n",
    "\n",
    "val instalmentsModel = ConsumerInstalmentsScheduleModel(\n",
    "    ordersModel.observables,\n",
    "    accountModel.properties,\n",
    "    /* plus various http clients, local storage manager etc. */\n",
    ")"
   ],
   "metadata": {
    "collapsed": false,
    "ExecuteTime": {
     "end_time": "2023-08-08T23:50:07.843343Z",
     "start_time": "2023-08-08T23:50:07.807170Z"
    }
   }
  },
  {
   "cell_type": "markdown",
   "source": [
    "And once again the Model layer:\n",
    "1. The dependencies are a-cyclic and directed (DAG)\n",
    "2. `instalmentsModel` **cannot** call place order; it can observe and respond to changes in, and use the properties of, `ordersModel`\n",
    "\n",
    "The key is to decide which models depend on which _parts_ of other models - some only need properties and/or observables, other need the whole model.\n",
    "\n",
    "\n",
    "The MVP's *Presenter* will likely depend on entire/whole instances of Model, so it can manipulate the data.\n"
   ],
   "metadata": {
    "collapsed": false
   }
  },
  {
   "cell_type": "markdown",
   "source": [
    "### Other Models\n",
    "\n",
    "`DailyInstalmentModel` - installments aggregated by day\n",
    "`WeeklyInstalmentModel` - installment aggregated by week\n"
   ],
   "metadata": {
    "collapsed": false
   }
  },
  {
   "cell_type": "code",
   "execution_count": 29,
   "outputs": [],
   "source": [
    "import org.joda.time.LocalDate\n",
    "\n",
    "class DailyInstalmentModel(\n",
    "    private val ordersModel: ConsumerOrdersModel,\n",
    "    private val accountProperties: ConsumerAccountModel.Properties,\n",
    ") {\n",
    "    interface Properties : Model.Properties {\n",
    "        val instalments: Map<LocalDate, List<Instalment>>\n",
    "    }\n",
    "\n",
    "    interface Observables : Model.Observables {\n",
    "        val instalments: Observable<Map<LocalDate, List<Instalment>>>\n",
    "        val focalUpdate: Observable<Pair<LocalDate, List<Instalment>>>\n",
    "    }\n",
    "    // ...\n",
    "\n",
    "\n",
    "}\n"
   ],
   "metadata": {
    "collapsed": false,
    "ExecuteTime": {
     "end_time": "2023-08-08T23:50:07.883451Z",
     "start_time": "2023-08-08T23:50:07.841872Z"
    }
   }
  },
  {
   "cell_type": "markdown",
   "source": [
    "It depends on the **entire `ConsumerOrdersModel`** in order to allow payment of an instalment for example."
   ],
   "metadata": {
    "collapsed": false
   }
  },
  {
   "cell_type": "markdown",
   "source": [
    "## The View and the View Mediator\n",
    "\n",
    "\n",
    "#### The View\n",
    "\n",
    "The view is often a framework of native classes and sdks, e.g. React, Android, iOS, Dart etc.\n",
    "\n",
    "For the purposes of this demonstration, we'll define a View class and a few related subclasses and interfaces:\n"
   ],
   "metadata": {
    "collapsed": false
   }
  },
  {
   "cell_type": "code",
   "execution_count": 30,
   "outputs": [],
   "source": [
    "abstract class View(val id: Long) {\n",
    "\n",
    "    private val childViews = mutableListOf<View>()\n",
    "\n",
    "    /**\n",
    "     * a handler to aclick event on a visible, enabled view\n",
    "     */\n",
    "    interface OnCLickListener {\n",
    "        fun onClick(v: View)\n",
    "    }\n",
    "\n",
    "    var isEnabled: Boolean = false\n",
    "\n",
    "    var isVisible: Boolean = false\n",
    "\n",
    "    // add/remove click handlers\n",
    "    fun addOnClickListener(listener: OnCLickListener) = Unit\n",
    "    fun removeOnClickListener(listener: OnCLickListener) = Unit\n",
    "\n",
    "    // find a child view in the hirarchy\n",
    "    fun findViewById(id: Long): View? {\n",
    "        if (id == this.id) {\n",
    "            this\n",
    "        } else {\n",
    "            childViews.onEach {\n",
    "                it.findViewById(id)?.run {\n",
    "                    return it\n",
    "                }\n",
    "            }\n",
    "        }\n",
    "        return null\n",
    "    }\n",
    "\n",
    "    // and MANY MANY MORE methods to animate, size, layout, position, apply skin/style etc.\n",
    "}\n",
    "\n",
    "open class Button(id: Long) : View(id) {\n",
    "    fun setLabel(text: String?) = Unit\n",
    "}\n",
    "\n",
    "class Label(id: Long) : View(id) {\n",
    "    fun setText(text: CharSequence?) = Unit\n",
    "}\n",
    "\n",
    "class ListView(id: Long) : View(id) {\n",
    "\n",
    "    interface OnItemSelectedListener {\n",
    "        fun onItemSelected(index: Int, item: Any)\n",
    "    }\n",
    "\n",
    "    var items = emptyList<Any?>()\n",
    "\n",
    "    fun addOnItemSelectedListener(listener: OnItemSelectedListener) = Unit\n",
    "    fun removeOnItemSelectedListener(listener: OnItemSelectedListener) = Unit\n",
    "}\n",
    "\n",
    "class ImageView(id: Long) : View(id) {\n",
    "\n",
    "    fun fromUrl(url: String) = Unit\n",
    "}\n",
    "\n",
    "\n",
    "class ToggleButton(id: Long) : Button(id) {\n",
    "\n",
    "    interface OnToggleStateChangeListener {\n",
    "        fun onToggleStateChange(isSelected: Boolean)\n",
    "    }\n",
    "\n",
    "    fun addOnToggleStateChangeListener(listener: OnToggleStateChangeListener) = Unit\n",
    "    fun removeOnToggleStateChangeListener(listener: OnToggleStateChangeListener) = Unit\n",
    "\n",
    "    var isSelected: Boolean = false\n",
    "}"
   ],
   "metadata": {
    "collapsed": false,
    "ExecuteTime": {
     "end_time": "2023-08-08T23:50:08.003182Z",
     "start_time": "2023-08-08T23:50:07.874174Z"
    }
   }
  },
  {
   "cell_type": "markdown",
   "source": [
    "#### The ViewMediator\n",
    "\n",
    "An abstraction over the view, obfuscating the internal knowledge of the view hierarchy and composition, and exposing semantic API to manipulate/ interact with the view from the outside (responsibility).\n",
    "\n",
    "The View Mediator defines the interface for its view's interactions (which interactions will be allowed and exposed externally).\n",
    "\n",
    "\n",
    "##### Note: Unlike instances in the Model layer, a View Mediator is not meant to be used by multiple presenters.\n",
    "\n",
    "This is not a hard-set rule; just keep in mind that this would be an exception.\n",
    "\n",
    "Similarly, an instance of a presenter will only depend on (interact with) one mediator - but again - this isn't set in stone.\n",
    "\n",
    "The rule of thumb is that Presenter instance and View Mediator maintain a 1:1 relationship in the most common case.\n"
   ],
   "metadata": {
    "collapsed": false
   }
  },
  {
   "cell_type": "markdown",
   "source": [
    "#### The ConsumerLoginViewMediator\n",
    "\n",
    "A view mediator for consumer account login can govern the UI components involved in changes to login status, e.g.\n",
    "1. The label of the login button(s)\n",
    "2. The welcome message\n",
    "3. The avatar"
   ],
   "metadata": {
    "collapsed": false
   }
  },
  {
   "cell_type": "code",
   "execution_count": 31,
   "outputs": [
    {
     "name": "stderr",
     "output_type": "stream",
     "text": [
      "Line_31.jupyter.kts (59:62 - 66) Unresolved reference: name"
     ]
    }
   ],
   "source": [
    "interface ConsumerLoginInteractions {\n",
    "    fun onLoginButtonClicked()\n",
    "    fun onLogoutButtonClicked()\n",
    "}\n",
    "\n",
    "companion object LoginIds {\n",
    "    const val VIEW_ID_LOGIN_BUTTON = 1L\n",
    "    const val VIEW_ID_WELCOME_PROMPT = 2L\n",
    "}\n",
    "\n",
    "data class UserLoginData(\n",
    "    val : String,\n",
    "    val avatarUrl: String,\n",
    "    val lastLoginDate: String\n",
    ")\n",
    "\n",
    "\n",
    "class ConsumerLoginViewMediator(private val root: View, private val interactions: ConsumerLoginInteractions) {\n",
    "    private val loginButton: Button\n",
    "    private val welcomePrompt: Label\n",
    "\n",
    "    init {\n",
    "\n",
    "        welcomePrompt = root.findViewById(LoginIds.VIEW_ID_WELCOME_PROMPT)?.let {\n",
    "            require(it is Label)\n",
    "            it\n",
    "        } ?: throw RuntimeException(\"Failed to find welcome label in $root\")\n",
    "\n",
    "        loginButton = root.findViewById(LoginIds.VIEW_ID_LOGIN_BUTTON)?.let {\n",
    "            require(it is Button)\n",
    "            it\n",
    "        } ?: throw RuntimeException(\"Failed to find login button in $root\")\n",
    "    }\n",
    "\n",
    "\n",
    "    private val logoutListener = object : View.OnCLickListener {\n",
    "        override fun onClick(v: View) {\n",
    "            interactions.onLogoutButtonClicked()\n",
    "        }\n",
    "    }\n",
    "\n",
    "    private val loginListener = object : View.OnCLickListener {\n",
    "        override fun onClick(v: View) {\n",
    "            interactions.onLoginButtonClicked()\n",
    "        }\n",
    "    }\n",
    "\n",
    "    fun setLoggedInState(isLoggedIn: Boolean, userLoginData: UserLoginData?) {\n",
    "        check((isLoggedIn && userLoginData != null) || (!isLoggedIn && userLoginData == null))\n",
    "\n",
    "        if (isLoggedIn) {\n",
    "            with(loginButton) {\n",
    "                removeOnClickListener(loginListener)\n",
    "                setLabel(\"Logout\")\n",
    "                addOnClickListener(logoutListener)\n",
    "            }\n",
    "            welcomePrompt.isVisible = true\n",
    "            welcomePrompt.setText(\"Welcome ${userLoginData!!.name}\")\n",
    "        } else {\n",
    "            with(loginButton) {\n",
    "                removeOnClickListener(logoutListener)\n",
    "                setLabel(\"Login\")\n",
    "                addOnClickListener(loginListener)\n",
    "\n",
    "            }\n",
    "            welcomePrompt.isVisible = false\n",
    "        }\n",
    "    }\n",
    "}"
   ],
   "metadata": {
    "collapsed": false,
    "ExecuteTime": {
     "end_time": "2023-08-08T23:50:08.154469Z",
     "start_time": "2023-08-08T23:50:08.001202Z"
    }
   }
  },
  {
   "cell_type": "markdown",
   "source": [
    "##### Notice:\n",
    "1. The mediator is the only one that has access to the View (hierarchy). DIP - _depend on abstractions, not concretions\"_\n",
    "2. There's a 1:1 relationship between Views (components) and Mediators. (Why is that?)\n",
    "3. The Mediator above **isn't** brokering/ governing the sign in/up flow - only the login status changes (and the relevant interactions). Respect SRP."
   ],
   "metadata": {
    "collapsed": false
   }
  },
  {
   "cell_type": "markdown",
   "source": [
    "#### The ConsumerOrdersHistoryMediator\n",
    "\n",
    "Similarly - the view mediator for orders may govern a `ListView` and a `ToggleButton` to display all orders or just the active ones"
   ],
   "metadata": {
    "collapsed": false
   }
  },
  {
   "cell_type": "code",
   "execution_count": 32,
   "outputs": [],
   "source": [
    "interface ConsumerOrdersInteractions {\n",
    "\n",
    "    fun onOrderClicked(orderId: Long) // order is clicked on the list\n",
    "    fun onPayOrderClicked(orderId: Long) // pay button on the list item is clicked\n",
    "    fun onFilterActiveOrdersToggled(selected: Boolean) // the filter button is toggled\n",
    "}\n",
    "\n",
    "companion object OrdersIds {\n",
    "    const val VIEW_ID_ORDERS_LIST_ = 1L\n",
    "    const val VIEW_ID_FILTER_BUTTON = 2L\n",
    "}\n",
    "\n",
    "data class OrderViewData(\n",
    "    val name: String,\n",
    "    val id: Long,\n",
    "    val merchant: String,\n",
    "    val amount: Float, // leaving currency out of it\n",
    "    val amountDue: Float // remained to be paid\n",
    ")\n",
    "\n",
    "class ConsumerOrdersHistoryMediator(private val root: View, private val interactions: ConsumerOrdersInteractions) {\n",
    "    private val ordersList: ListView\n",
    "    private val activeOrdersFilter: ToggleButton\n",
    "\n",
    "    private var consumerOrders: List<OrderViewData> = emptyList()\n",
    "\n",
    "    init {\n",
    "\n",
    "        ordersList = root.findViewById(OrdersIds.VIEW_ID_ORDERS_LIST_)?.let {\n",
    "            require(it is ListView)\n",
    "\n",
    "            // set the item selected handler and map to the interaction\n",
    "            it.addOnItemSelectedListener(object : ListView.OnItemSelectedListener {\n",
    "\n",
    "                override fun onItemSelected(index: Int, item: Any) {\n",
    "                    if (item is OrderViewData) {\n",
    "                        interactions.onOrderClicked(item.id)\n",
    "                    }\n",
    "                }\n",
    "            })\n",
    "            it\n",
    "        } ?: throw RuntimeException(\"Failed to find orders list in $root\")\n",
    "\n",
    "        activeOrdersFilter = root.findViewById(OrdersIds.VIEW_ID_FILTER_BUTTON)?.let {\n",
    "            require(it is ToggleButton)\n",
    "\n",
    "            // add a handler for state changes (toggles):\n",
    "            it.addOnToggleStateChangeListener(object : ToggleButton.OnToggleStateChangeListener {\n",
    "\n",
    "                override fun onToggleStateChange(isSelected: Boolean) {\n",
    "                    interactions.onFilterActiveOrdersToggled(isSelected)\n",
    "                }\n",
    "            })\n",
    "            it\n",
    "        } ?: throw RuntimeException(\"Failed to find login button in $root\")\n",
    "    }\n",
    "\n",
    "\n",
    "    fun showActiveOrders(filterActiveOrders: Boolean) {\n",
    "        activeOrdersFilter.isSelected = filterActiveOrders\n",
    "        populateOrdersList()\n",
    "    }\n",
    "\n",
    "    fun setConsumerOrders(orders: List<OrderViewData>) {\n",
    "        consumerOrders = orders\n",
    "        populateOrdersList()\n",
    "    }\n",
    "\n",
    "    private fun populateOrdersList() {\n",
    "        ordersList.items = if (activeOrdersFilter.isSelected) {\n",
    "            consumerOrders.filter { it.amountDue > 0.00f }\n",
    "        } else {\n",
    "            consumerOrders\n",
    "        }\n",
    "    }\n",
    "}"
   ],
   "metadata": {
    "collapsed": false,
    "ExecuteTime": {
     "end_time": "2023-08-08T23:50:08.300812Z",
     "start_time": "2023-08-08T23:50:08.141919Z"
    }
   }
  },
  {
   "cell_type": "markdown",
   "source": [
    "### The View State\n",
    "The View State is a another realm of instances responsible to indicate the state of the view.\n",
    "\n",
    "For example:\n",
    "1. Which radio/check button is selected\n",
    "2. Is a dialog/modal shown or hidden (e.g. login dialog, menus)\n",
    "3. What texts did the user type in each TextEdit/InputElement\n",
    "4. What item is selected in the list\n",
    "5. and more.\n",
    "\n",
    "\n",
    "The View State can also assist in maintaining other state related values which don't directly map to View components - e.g the current state in a Finite State Machine (FSM) represented in the View (see LoginFlow example).\n",
    "\n",
    "\n",
    "The View State helps to maintain consistency during internal navigation/ transitions (e.g. if the user selects menu items showing different screens and each of them has stateful elements - they can be restored/ repopulated).\n",
    "\n",
    "If called for - the View State can be stored and fetched (it would be backed by a dedicated model e.g. `SessionViewStateModel`).\n",
    "\n",
    "The View State is scoped to a view e.g: orders tab (filter, selected order), login.\n",
    "\n",
    "The structure of a the View State resembles the model sans the transactional parts - it is a class with observables and properties."
   ],
   "metadata": {
    "collapsed": false
   }
  },
  {
   "cell_type": "code",
   "execution_count": 33,
   "outputs": [],
   "source": [
    "class OrderListViewState {\n",
    "\n",
    "    interface Properties {\n",
    "        val isFilterOn: Boolean\n",
    "    }\n",
    "\n",
    "    interface Observables {\n",
    "        val isFilterOn: Observable<Boolean>\n",
    "    }\n",
    "\n",
    "    private val filterOnSubject = BehaviorSubject<Boolean>(false)\n",
    "\n",
    "    val properties: Properties = object : Properties {\n",
    "        override val isFilterOn: Boolean = filterOnSubject.current\n",
    "    }\n",
    "\n",
    "    val observables: Observables = object : Observables {\n",
    "        override val isFilterOn: Observable<Boolean> = filterOnSubject\n",
    "    }\n",
    "}"
   ],
   "metadata": {
    "collapsed": false
   }
  },
  {
   "cell_type": "markdown",
   "source": [
    "---\n",
    "### The Presenter\n",
    "\n",
    "A Presenter is responsible for the presentation logic of a _portion_ of the app/page.\n",
    "Presentation Login means **What to display** - the _\"what to display\" refers to both views and values in them.\n",
    "\n",
    "A common formula for a Presenter would be:\n",
    "1. Depend on at least on Model or ViewState, and at least on View Mediator\n",
    "2. Observe changes in the Models and/or View States\n",
    "3. On observation update (change) - manipulate the view using the View Mediator\n",
    "\n",
    "For example: `LoginPresenter`:"
   ],
   "metadata": {
    "collapsed": false
   }
  },
  {
   "cell_type": "code",
   "execution_count": 34,
   "outputs": [
    {
     "name": "stderr",
     "output_type": "stream",
     "text": [
      "Line_34.jupyter.kts (16:36 - 49) Unresolved reference: lastLoginDate"
     ]
    }
   ],
   "source": [
    "class LoginPresenter(\n",
    "    private val accountObservables: ConsumerAccountModel.Observables,\n",
    "    private val accountProperties: ConsumerAccountModel.Properties,\n",
    "    private val loginViewMediator: ConsumerLoginViewMediator\n",
    ") {\n",
    "    init {\n",
    "        accountObservables.isSignedIn.register(\n",
    "            object : Observer<Boolean> {\n",
    "                override fun update(value: Boolean) {\n",
    "                    loginViewMediator.setLoggedInState(\n",
    "                        accountProperties.isSignedIn,\n",
    "                        accountProperties.consumerProfile?.let {\n",
    "                            UserLoginData(\n",
    "                                it.firstName + \" \" + it.lastName.first() +\".\", // e.g \"Ron S.\"\n",
    "                                it.avatarUrl,\n",
    "                                it.lastLogin.toLocalDate().toString()\n",
    "                            )\n",
    "                         }\n",
    "                    )\n",
    "                }\n",
    "\n",
    "            }\n",
    "        )\n",
    "    }\n",
    "}"
   ],
   "metadata": {
    "collapsed": false
   }
  },
  {
   "cell_type": "markdown",
   "source": [],
   "metadata": {
    "collapsed": false
   }
  }
 ],
 "metadata": {
  "kernelspec": {
   "display_name": "Kotlin",
   "language": "kotlin",
   "name": "kotlin"
  },
  "language_info": {
   "name": "kotlin",
   "version": "1.8.20",
   "mimetype": "text/x-kotlin",
   "file_extension": ".kt",
   "pygments_lexer": "kotlin",
   "codemirror_mode": "text/x-kotlin",
   "nbconvert_exporter": ""
  },
  "ktnbPluginMetadata": {
   "isBuildProject": true
  }
 },
 "nbformat": 4,
 "nbformat_minor": 0
}
